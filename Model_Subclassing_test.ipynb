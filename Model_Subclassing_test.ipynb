{
 "cells": [
  {
   "cell_type": "code",
   "execution_count": 2,
   "metadata": {},
   "outputs": [],
   "source": [
    "from tensorflow.keras.models import Model\n",
    "import tensorflow as tf\n",
    "import numpy as np\n",
    "from tensorflow.keras.layers import Input,Dense,SimpleRNN,Flatten\n",
    "tf.keras.backend.clear_session()\n",
    "import os\n",
    "os.environ[\"CUDA_DEVICE_ORDER\"]=\"PCI_BUS_ID\"   # see issue #152\n",
    "os.environ[\"CUDA_VISIBLE_DEVICES\"]=\"0\""
   ]
  },
  {
   "cell_type": "code",
   "execution_count": 3,
   "metadata": {},
   "outputs": [],
   "source": [
    "mnist_data=tf.keras.datasets.mnist\n",
    "(train_images, train_labels),(test_images,test_labels)= mnist_data.load_data()\n",
    "\n",
    "train_images=train_images/255.\n",
    "test_images=test_images/255.\n",
    "\n",
    "train_labels = tf.keras.utils.to_categorical(np.array(train_labels))\n",
    "test_labels = tf.keras.utils.to_categorical(np.array(test_labels))"
   ]
  },
  {
   "cell_type": "code",
   "execution_count": 4,
   "metadata": {},
   "outputs": [
    {
     "name": "stdout",
     "output_type": "stream",
     "text": [
      "(60000, 28, 28) (60000, 10)\n"
     ]
    }
   ],
   "source": [
    "print(train_images.shape,\n",
    "train_labels.shape)\n",
    "\n"
   ]
  },
  {
   "cell_type": "code",
   "execution_count": 8,
   "metadata": {},
   "outputs": [],
   "source": [
    "class my_model(Model):\n",
    "    def __init__(self):\n",
    "        super(my_model,self).__init__()\n",
    "        self.flatten=Flatten()\n",
    "        self.dense1=Dense(units=64,activation='relu')\n",
    "        self.dense2=Dense(units=10,activation='softmax')\n",
    "        self.rnn=SimpleRNN(units=64,activation='tanh')\n",
    "\n",
    "    def call(self,x):\n",
    "        x=self.flatten(x)\n",
    "        x=self.dense1(x)\n",
    "        x=self.dense2(x)\n",
    "        return self.dense2(x)\n",
    "\n",
    "temp_input=tf.keras.Input(shape=(32,32,1))\n",
    "model=my_model()\n",
    "model.compile(optimizer='adam',loss='categorical_crossentropy')"
   ]
  },
  {
   "cell_type": "code",
   "execution_count": 9,
   "metadata": {},
   "outputs": [
    {
     "name": "stdout",
     "output_type": "stream",
     "text": [
      "Epoch 1/2\n"
     ]
    },
    {
     "ename": "ValueError",
     "evalue": "in user code:\n\n    File \"c:\\Users\\USER\\anaconda3\\envs\\deep\\lib\\site-packages\\keras\\engine\\training.py\", line 1160, in train_function  *\n        return step_function(self, iterator)\n    File \"c:\\Users\\USER\\anaconda3\\envs\\deep\\lib\\site-packages\\keras\\engine\\training.py\", line 1146, in step_function  **\n        outputs = model.distribute_strategy.run(run_step, args=(data,))\n    File \"c:\\Users\\USER\\anaconda3\\envs\\deep\\lib\\site-packages\\keras\\engine\\training.py\", line 1135, in run_step  **\n        outputs = model.train_step(data)\n    File \"c:\\Users\\USER\\anaconda3\\envs\\deep\\lib\\site-packages\\keras\\engine\\training.py\", line 993, in train_step\n        y_pred = self(x, training=True)\n    File \"c:\\Users\\USER\\anaconda3\\envs\\deep\\lib\\site-packages\\keras\\utils\\traceback_utils.py\", line 70, in error_handler\n        raise e.with_traceback(filtered_tb) from None\n    File \"C:\\Users\\USER\\AppData\\Local\\Temp\\__autograph_generated_filetolah_q1.py\", line 15, in tf__call\n        retval_ = ag__.converted_call(ag__.ld(self).dense2, (ag__.ld(x),), None, fscope)\n\n    ValueError: Exception encountered when calling layer \"my_model_1\" \"                 f\"(type my_model).\n    \n    in user code:\n    \n        File \"C:\\Users\\USER\\AppData\\Local\\Temp\\ipykernel_7556\\3475129910.py\", line 13, in call  *\n            return self.dense2(x)\n        File \"c:\\Users\\USER\\anaconda3\\envs\\deep\\lib\\site-packages\\keras\\utils\\traceback_utils.py\", line 70, in error_handler  **\n            raise e.with_traceback(filtered_tb) from None\n        File \"c:\\Users\\USER\\anaconda3\\envs\\deep\\lib\\site-packages\\keras\\engine\\input_spec.py\", line 277, in assert_input_compatibility\n            raise ValueError(\n    \n        ValueError: Input 0 of layer \"dense_3\" is incompatible with the layer: expected axis -1 of input shape to have value 64, but received input with shape (32, 10)\n    \n    \n    Call arguments received by layer \"my_model_1\" \"                 f\"(type my_model):\n      • x=tf.Tensor(shape=(32, 28, 28), dtype=float32)\n",
     "output_type": "error",
     "traceback": [
      "\u001b[1;31m---------------------------------------------------------------------------\u001b[0m",
      "\u001b[1;31mValueError\u001b[0m                                Traceback (most recent call last)",
      "Cell \u001b[1;32mIn[9], line 1\u001b[0m\n\u001b[1;32m----> 1\u001b[0m history\u001b[39m=\u001b[39mmodel\u001b[39m.\u001b[39;49mfit(train_images,train_labels,epochs\u001b[39m=\u001b[39;49m\u001b[39m2\u001b[39;49m,validation_data\u001b[39m=\u001b[39;49m(test_images,test_labels))\n",
      "File \u001b[1;32mc:\\Users\\USER\\anaconda3\\envs\\deep\\lib\\site-packages\\keras\\utils\\traceback_utils.py:70\u001b[0m, in \u001b[0;36mfilter_traceback.<locals>.error_handler\u001b[1;34m(*args, **kwargs)\u001b[0m\n\u001b[0;32m     67\u001b[0m     filtered_tb \u001b[39m=\u001b[39m _process_traceback_frames(e\u001b[39m.\u001b[39m__traceback__)\n\u001b[0;32m     68\u001b[0m     \u001b[39m# To get the full stack trace, call:\u001b[39;00m\n\u001b[0;32m     69\u001b[0m     \u001b[39m# `tf.debugging.disable_traceback_filtering()`\u001b[39;00m\n\u001b[1;32m---> 70\u001b[0m     \u001b[39mraise\u001b[39;00m e\u001b[39m.\u001b[39mwith_traceback(filtered_tb) \u001b[39mfrom\u001b[39;00m \u001b[39mNone\u001b[39m\n\u001b[0;32m     71\u001b[0m \u001b[39mfinally\u001b[39;00m:\n\u001b[0;32m     72\u001b[0m     \u001b[39mdel\u001b[39;00m filtered_tb\n",
      "File \u001b[1;32m~\\AppData\\Local\\Temp\\__autograph_generated_filebn0p6o06.py:15\u001b[0m, in \u001b[0;36mouter_factory.<locals>.inner_factory.<locals>.tf__train_function\u001b[1;34m(iterator)\u001b[0m\n\u001b[0;32m     13\u001b[0m \u001b[39mtry\u001b[39;00m:\n\u001b[0;32m     14\u001b[0m     do_return \u001b[39m=\u001b[39m \u001b[39mTrue\u001b[39;00m\n\u001b[1;32m---> 15\u001b[0m     retval_ \u001b[39m=\u001b[39m ag__\u001b[39m.\u001b[39mconverted_call(ag__\u001b[39m.\u001b[39mld(step_function), (ag__\u001b[39m.\u001b[39mld(\u001b[39mself\u001b[39m), ag__\u001b[39m.\u001b[39mld(iterator)), \u001b[39mNone\u001b[39;00m, fscope)\n\u001b[0;32m     16\u001b[0m \u001b[39mexcept\u001b[39;00m:\n\u001b[0;32m     17\u001b[0m     do_return \u001b[39m=\u001b[39m \u001b[39mFalse\u001b[39;00m\n",
      "File \u001b[1;32m~\\AppData\\Local\\Temp\\__autograph_generated_filetolah_q1.py:15\u001b[0m, in \u001b[0;36mouter_factory.<locals>.inner_factory.<locals>.tf__call\u001b[1;34m(self, x)\u001b[0m\n\u001b[0;32m     13\u001b[0m \u001b[39mtry\u001b[39;00m:\n\u001b[0;32m     14\u001b[0m     do_return \u001b[39m=\u001b[39m \u001b[39mTrue\u001b[39;00m\n\u001b[1;32m---> 15\u001b[0m     retval_ \u001b[39m=\u001b[39m ag__\u001b[39m.\u001b[39mconverted_call(ag__\u001b[39m.\u001b[39mld(\u001b[39mself\u001b[39m)\u001b[39m.\u001b[39mdense2, (ag__\u001b[39m.\u001b[39mld(x),), \u001b[39mNone\u001b[39;00m, fscope)\n\u001b[0;32m     16\u001b[0m \u001b[39mexcept\u001b[39;00m:\n\u001b[0;32m     17\u001b[0m     do_return \u001b[39m=\u001b[39m \u001b[39mFalse\u001b[39;00m\n",
      "\u001b[1;31mValueError\u001b[0m: in user code:\n\n    File \"c:\\Users\\USER\\anaconda3\\envs\\deep\\lib\\site-packages\\keras\\engine\\training.py\", line 1160, in train_function  *\n        return step_function(self, iterator)\n    File \"c:\\Users\\USER\\anaconda3\\envs\\deep\\lib\\site-packages\\keras\\engine\\training.py\", line 1146, in step_function  **\n        outputs = model.distribute_strategy.run(run_step, args=(data,))\n    File \"c:\\Users\\USER\\anaconda3\\envs\\deep\\lib\\site-packages\\keras\\engine\\training.py\", line 1135, in run_step  **\n        outputs = model.train_step(data)\n    File \"c:\\Users\\USER\\anaconda3\\envs\\deep\\lib\\site-packages\\keras\\engine\\training.py\", line 993, in train_step\n        y_pred = self(x, training=True)\n    File \"c:\\Users\\USER\\anaconda3\\envs\\deep\\lib\\site-packages\\keras\\utils\\traceback_utils.py\", line 70, in error_handler\n        raise e.with_traceback(filtered_tb) from None\n    File \"C:\\Users\\USER\\AppData\\Local\\Temp\\__autograph_generated_filetolah_q1.py\", line 15, in tf__call\n        retval_ = ag__.converted_call(ag__.ld(self).dense2, (ag__.ld(x),), None, fscope)\n\n    ValueError: Exception encountered when calling layer \"my_model_1\" \"                 f\"(type my_model).\n    \n    in user code:\n    \n        File \"C:\\Users\\USER\\AppData\\Local\\Temp\\ipykernel_7556\\3475129910.py\", line 13, in call  *\n            return self.dense2(x)\n        File \"c:\\Users\\USER\\anaconda3\\envs\\deep\\lib\\site-packages\\keras\\utils\\traceback_utils.py\", line 70, in error_handler  **\n            raise e.with_traceback(filtered_tb) from None\n        File \"c:\\Users\\USER\\anaconda3\\envs\\deep\\lib\\site-packages\\keras\\engine\\input_spec.py\", line 277, in assert_input_compatibility\n            raise ValueError(\n    \n        ValueError: Input 0 of layer \"dense_3\" is incompatible with the layer: expected axis -1 of input shape to have value 64, but received input with shape (32, 10)\n    \n    \n    Call arguments received by layer \"my_model_1\" \"                 f\"(type my_model):\n      • x=tf.Tensor(shape=(32, 28, 28), dtype=float32)\n"
     ]
    }
   ],
   "source": [
    "history=model.fit(train_images,train_labels,epochs=2,validation_data=(test_images,test_labels))"
   ]
  },
  {
   "cell_type": "code",
   "execution_count": null,
   "metadata": {},
   "outputs": [],
   "source": []
  }
 ],
 "metadata": {
  "kernelspec": {
   "display_name": "deep",
   "language": "python",
   "name": "python3"
  },
  "language_info": {
   "codemirror_mode": {
    "name": "ipython",
    "version": 3
   },
   "file_extension": ".py",
   "mimetype": "text/x-python",
   "name": "python",
   "nbconvert_exporter": "python",
   "pygments_lexer": "ipython3",
   "version": "3.9.15"
  },
  "orig_nbformat": 4,
  "vscode": {
   "interpreter": {
    "hash": "2aa449cdabfa2015c02c49b6052644087a8272ff24b4438d56a7aabf7a36706b"
   }
  }
 },
 "nbformat": 4,
 "nbformat_minor": 2
}
