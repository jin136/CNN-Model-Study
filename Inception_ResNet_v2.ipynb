{
 "cells": [
  {
   "cell_type": "code",
   "execution_count": null,
   "metadata": {},
   "outputs": [],
   "source": [
    "import tensorflow as tf\n",
    "import numpy as np\n",
    "from keras.preprocessing.image import ImageDataGenerator\n",
    "from tensorflow.keras import Sequential,Model,initializers,layers,Input\n",
    "from tensorflow.keras.utils import plot_model\n",
    "from sklearn.model_selection import train_test_split\n",
    "import os\n",
    "os.environ[\"CUDA_VISIBLE_DEVICES\"]=\"-1\""
   ]
  },
  {
   "cell_type": "code",
   "execution_count": 1,
   "metadata": {},
   "outputs": [],
   "source": [
    "def Stem(x):\n",
    "    x=layers.Conv2D(filters=32,kernel_size=(3,3),strides=(2,2),padding='same',activation='relu')(x)\n",
    "    x=layers.Conv2D(filters=32,kernel_size=(3,3),strides=(1,1),padding='same',activation='relu')(x)\n",
    "    x=layers.Conv2D(filters=64,kernel_size=(3,3),strides=(1,1),padding='same',activation='relu')(x)\n",
    "\n",
    "    x1=layers.MaxPooling2D(pool_size=(3,3),strides=(2,2))(x)\n",
    "    x2=layers.Conv2D(filters=96,kernel_size=(3,3),strides=(1,1),padding='same',activation='relu')(x)\n",
    "    x3=tf.keras.layers.Concatenate()([x1, x2])\n",
    "\n",
    "    x4=layers.Conv2D(filters=64,kernel_size=(1,1),strides=(1,1),padding='same',activation='relu')(x3)\n",
    "    x4=layers.Conv2D(filters=96,kernel_size=(3,3),strides=(1,1),padding='same',activation='relu')(x4)\n",
    "\n",
    "    x5=layers.Conv2D(filters=64,kernel_size=(1,1),strides=(1,1),padding='same',activation='relu')(x3)\n",
    "    x5=layers.Conv2D(filters=64,kernel_size=(7,1),strides=(1,1),padding='same',activation='relu')(x5)\n",
    "    x5=layers.Conv2D(filters=64,kernel_size=(1,7),strides=(1,1),padding='same',activation='relu')(x5)\n",
    "    x5=layers.Conv2D(filters=96,kernel_size=(3,3),strides=(1,1),padding='same',activation='relu')(x5)\n",
    "    x6=tf.keras.layers.Concatenate()([x4, x5])\n",
    "\n",
    "    x7=layers.MaxPooling2D(pool_size=(3,3),strides=(2,2))(x6)\n",
    "    x8=layers.Conv2D(filters=192,kernel_size=(3,3),strides=(1,1),padding='same',activation='relu')(x6)\n",
    "    x9=tf.keras.layers.Concatenate()([x7, x8])\n",
    "\n",
    "    return x9\n",
    "\n",
    "\n",
    "def Inception_ResNet_A(x):\n",
    "    x=layers.activation.ReLU()(x)\n",
    "\n",
    "    x1=layers.Conv2D(filters=32,kernel_size=(1,1),strides=(1,1),padding='same',activation='relu')(x)\n",
    "\n",
    "    x2=layers.Conv2D(filters=32,kernel_size=(1,1),strides=(1,1),padding='same',activation='relu')(x)\n",
    "    x2=layers.Conv2D(filters=32,kernel_size=(3,3),strides=(1,1),padding='same',activation='relu')(x2)\n",
    "\n",
    "\n",
    "    x3=layers.Conv2D(filters=32,kernel_size=(3,3),strides=(1,1),padding='same',activation='relu')(x)\n",
    "    x3=layers.Conv2D(filters=48,kernel_size=(1,1),strides=(1,1),padding='same',activation='relu')(x3)\n",
    "    x3=layers.Conv2D(filters=64,kernel_size=(1,1),strides=(1,1),padding='same',activation='relu')(x3)\n",
    "\n",
    "    x4=tf.keras.layers.Concatenate()([x,x1,x2,x3])\n",
    "    x4=layers.Conv2D(filters=384,kernel_size=(1,1),strides=(1,1),padding='same')(x4)\n",
    "    \n",
    "    x5=layers.Add()([x,x4]) \n",
    "    x5=layers.activation.ReLU()(x5)\n",
    "    return x4\n",
    "\n",
    "\n",
    "\n",
    "def Inception_ResNet_B(x):\n",
    "    x=layers.activation.ReLU()(x)\n",
    "    x1=layers.Conv2D(filters=32,kernel_size=(1,1),strides=(1,1),padding='same',activation='relu')(x)\n",
    "    x1=layers.Conv2D(filters=192,kernel_size=(1,1),strides=(1,1),padding='same')(x)\n",
    "\n",
    "    x2=layers.Conv2D(filters=128,kernel_size=(1,1),strides=(1,1),padding='same',activation='relu')(x)\n",
    "    x2=layers.Conv2D(filters=160,kernel_size=(1,1),strides=(1,1),padding='same',activation='relu')(x2)\n",
    "    x2=layers.Conv2D(filters=192,kernel_size=(1,1),strides=(1,1),padding='same',activation='relu')(x2)\n",
    "    \n",
    "    x3=tf.keras.layers.Concatenate()([x1,x2])\n",
    "\n",
    "    x3=layers.Conv2D(filters=1154,kernel_size=(1,1),strides=(1,1),padding='same')(x3)\n",
    "    \n",
    "    x4=layers.Add()([x,x3])\n",
    "\n",
    "    x4=layers.activation.ReLU()(x4)\n",
    "\n",
    "    return x4\n",
    "\n",
    "    \n",
    "     \n",
    "\n",
    "    "
   ]
  },
  {
   "cell_type": "code",
   "execution_count": null,
   "metadata": {},
   "outputs": [],
   "source": [
    "input=layers.Input(shape=(299,299,3))"
   ]
  }
 ],
 "metadata": {
  "kernelspec": {
   "display_name": "deep",
   "language": "python",
   "name": "python3"
  },
  "language_info": {
   "codemirror_mode": {
    "name": "ipython",
    "version": 3
   },
   "file_extension": ".py",
   "mimetype": "text/x-python",
   "name": "python",
   "nbconvert_exporter": "python",
   "pygments_lexer": "ipython3",
   "version": "3.9.15"
  },
  "orig_nbformat": 4,
  "vscode": {
   "interpreter": {
    "hash": "2aa449cdabfa2015c02c49b6052644087a8272ff24b4438d56a7aabf7a36706b"
   }
  }
 },
 "nbformat": 4,
 "nbformat_minor": 2
}
