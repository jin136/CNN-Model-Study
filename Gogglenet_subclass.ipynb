{
 "cells": [
  {
   "cell_type": "code",
   "execution_count": 50,
   "metadata": {},
   "outputs": [],
   "source": [
    "import tensorflow as tf\n",
    "import numpy as np\n",
    "from keras.preprocessing.image import ImageDataGenerator\n",
    "from tensorflow.keras import Sequential,Model,initializers,layers,Input\n",
    "from keras.utils.vis_utils import plot_model\n",
    "import os\n",
    "os.environ[\"CUDA_DEVICE_ORDER\"]=\"PCI_BUS_ID\"  \n",
    "os.environ[\"CUDA_VISIBLE_DEVICES\"]=\"0\""
   ]
  },
  {
   "cell_type": "code",
   "execution_count": 51,
   "metadata": {},
   "outputs": [],
   "source": [
    "class google_net(Model):\n",
    "    def __init__(self):\n",
    "        super(google_net,self).__init__()\n",
    "\n",
    "        self.stem=Sequential([   \n",
    "            layers.Conv2D(input_shape=(224,224,3),filters=64,kernel_size=(7,7),strides=(2,2),padding='same',activation='relu'),\n",
    "            layers.MaxPooling2D(pool_size=(3,3),strides=(2,2),padding='same'),   \n",
    "            layers.LayerNormalization(),\n",
    "            layers.Conv2D(filters=192,kernel_size=(3,3),strides=(1,1),padding='same',activation='relu'),\n",
    "            layers.Conv2D(filters=192,kernel_size=(3,3),strides=(2,2),padding='same',activation='relu'),\n",
    "            layers.LayerNormalization(),\n",
    "            layers.MaxPooling2D(pool_size=(3,3),strides=(2,2),padding='same')\n",
    "        ])\n",
    "\n",
    "        self.l1=Sequential([\n",
    "            inception(64,96,128,64,64,64),\n",
    "            inception(64,96,128,64,64,64),\n",
    "            layers.MaxPooling2D(pool_size=(1,1),strides=(1,1),padding='same')\n",
    "        ])\n",
    "        \n",
    "        self.l2=Sequential([\n",
    "            inception(64,96,128,64,64,64),\n",
    "        ])\n",
    "        self.l3=Sequential([\n",
    "            inception(64,96,128,64,64,64),\n",
    "            inception(64,96,128,64,64,64),\n",
    "            inception(64,96,128,64,64,64)\n",
    "        ])\n",
    "        \n",
    "        self.l4=Sequential([\n",
    "            inception(64,96,128,64,64,64),\n",
    "        ])\n",
    "        \n",
    "        self.l5=Sequential([\n",
    "            layers.MaxPooling2D(pool_size=(1,1),strides=(1,1),padding='same'),\n",
    "            inception(64,96,128,64,64,64),\n",
    "            inception(64,96,128,64,64,64),\n",
    "        ])\n",
    " \n",
    "        self.fclayer=Sequential([\n",
    "            layers.AveragePooling2D(pool_size=(1,1),strides=(1,1)),\n",
    "            layers.Conv2D(filters=128,kernel_size=(1,1),strides=(1,1),padding='same',activation='relu'),\n",
    "            layers.Flatten(),\n",
    "            layers.Dense(units=256,activation='relu'),\n",
    "            layers.Dropout(0.7),\n",
    "            layers.Dense(units=10,activation='softmax')\n",
    "        ])\n",
    "\n",
    "        self.finalfc=Sequential([\n",
    "            layers.AveragePooling2D(pool_size=(7,7),strides=(1,1)),\n",
    "            layers.Flatten(),\n",
    "            layers.Dense(units=10,activation='softmax')    \n",
    "\n",
    "        ])\n",
    "\n",
    "    def call(self,inputs,training=False):\n",
    "        x=self.stem(inputs,training=training)\n",
    "\n",
    "        x=self.l1(x,training=False)\n",
    "        \n",
    "        x=self.l2(x,training=False)\n",
    "        ax1=self.fclayer(x,training=False)\n",
    "        \n",
    "        x=self.l3(x,training=False)\n",
    "        ax2=self.fclayer(x,training=False)\n",
    "        \n",
    "        x=self.l4(x,training=False)\n",
    "        \n",
    "        x=self.l5(x,training=False)\n",
    "        \n",
    "        x=self.finalfc(x,training=False)\n",
    "        return x,ax1,ax2"
   ]
  },
  {
   "cell_type": "code",
   "execution_count": 52,
   "metadata": {},
   "outputs": [
    {
     "ename": "",
     "evalue": "",
     "output_type": "error",
     "traceback": [
      "\u001b[1;31m현재 셀 또는 이전 셀에서 코드를 실행하는 동안 Kernel이 충돌했습니다. 셀의 코드를 검토하여 오류의 가능한 원인을 식별하세요. 자세한 내용을 보려면 <a href='https://aka.ms/vscodeJupyterKernelCrash'> 여기 </a> 를 클릭하세요. 자세한 내용은 Jupyter <a href='command:jupyter.viewOutput'>로그</a>를 참조하세요."
     ]
    }
   ],
   "source": [
    "class inception(layers.Layer):\n",
    "        def __init__(self,f1,f2,f3,f4,f5,f6):\n",
    "                super(inception,self).__init__()\n",
    "\n",
    "                self.layer1=Sequential([\n",
    "                        layers.Conv2D(filters=f1,kernel_size=(1,1),strides=(1,1),padding='same',activation='relu')\n",
    "                ])\n",
    "        \n",
    "                self.layer2=Sequential([\n",
    "                        layers.Conv2D(filters=f2,kernel_size=(1,1),strides=(1,1),padding='same',activation='relu'),\n",
    "                        layers.Conv2D(filters=f3,kernel_size=(3,3),strides=(1,1),padding='same',activation='relu')\n",
    "\n",
    "                ])\n",
    "\n",
    "                self.layer3=Sequential([\n",
    "                        layers.Conv2D(filters=f4 ,kernel_size=(1,1),strides=(1,1),padding='same',activation='relu'),\n",
    "                        layers.Conv2D(filters=f5,kernel_size=(5,5),strides=(1,1),padding='same',activation='relu')\n",
    "                ])\n",
    "\n",
    "                \n",
    "                self.layer4=Sequential([\n",
    "                        layers.MaxPooling2D(pool_size=(3,3),strides=(1,1),padding='same'),\n",
    "                        layers.Conv2D(filters=f6,kernel_size=(1,1),strides=(1,1),padding='same',activation='relu')\n",
    "                ])\n",
    "\n",
    "        def call(self,x):\n",
    "                return tf.concat([self.layer1(x),self.layer2(x),self.layer3(x),self.layer4(x)],axis=3)"
   ]
  },
  {
   "cell_type": "code",
   "execution_count": 46,
   "metadata": {},
   "outputs": [],
   "source": [
    "model=google_net()"
   ]
  },
  {
   "cell_type": "code",
   "execution_count": 47,
   "metadata": {},
   "outputs": [],
   "source": [
    "model.build(input_shape=(None,224,224,3))"
   ]
  },
  {
   "cell_type": "code",
   "execution_count": 48,
   "metadata": {},
   "outputs": [
    {
     "name": "stdout",
     "output_type": "stream",
     "text": [
      "Model: \"google_net_6\"\n",
      "_________________________________________________________________\n",
      " Layer (type)                Output Shape              Param #   \n",
      "=================================================================\n",
      " sequential_264 (Sequential)  (None, 14, 14, 192)      452736    \n",
      "                                                                 \n",
      " sequential_273 (Sequential)  (None, 14, 14, 320)      574400    \n",
      "                                                                 \n",
      " sequential_278 (Sequential)  (None, 14, 14, 320)      305632    \n",
      "                                                                 \n",
      " sequential_291 (Sequential)  (None, 14, 14, 320)      916896    \n",
      "                                                                 \n",
      " sequential_296 (Sequential)  (None, 14, 14, 320)      305632    \n",
      "                                                                 \n",
      " sequential_305 (Sequential)  (None, 14, 14, 320)      611264    \n",
      "                                                                 \n",
      " sequential_306 (Sequential)  (None, 10)               6466442   \n",
      "                                                                 \n",
      " sequential_307 (Sequential)  (None, 10)               204810    \n",
      "                                                                 \n",
      "=================================================================\n",
      "Total params: 9,837,812\n",
      "Trainable params: 9,837,812\n",
      "Non-trainable params: 0\n",
      "_________________________________________________________________\n"
     ]
    }
   ],
   "source": [
    "model.summary()"
   ]
  },
  {
   "cell_type": "code",
   "execution_count": null,
   "metadata": {},
   "outputs": [],
   "source": [
    "plot_model(model,to_file='sub.png_subclass',show_shapes=True)"
   ]
  }
 ],
 "metadata": {
  "kernelspec": {
   "display_name": "deep",
   "language": "python",
   "name": "python3"
  },
  "language_info": {
   "codemirror_mode": {
    "name": "ipython",
    "version": 3
   },
   "file_extension": ".py",
   "mimetype": "text/x-python",
   "name": "python",
   "nbconvert_exporter": "python",
   "pygments_lexer": "ipython3",
   "version": "3.9.15 (main, Nov 24 2022, 14:39:17) [MSC v.1916 64 bit (AMD64)]"
  },
  "orig_nbformat": 4,
  "vscode": {
   "interpreter": {
    "hash": "2aa449cdabfa2015c02c49b6052644087a8272ff24b4438d56a7aabf7a36706b"
   }
  }
 },
 "nbformat": 4,
 "nbformat_minor": 2
}
