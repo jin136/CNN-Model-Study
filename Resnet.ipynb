{
 "cells": [
  {
   "cell_type": "code",
   "execution_count": 1,
   "metadata": {},
   "outputs": [],
   "source": [
    "import tensorflow as tf\n",
    "import numpy as np\n",
    "from keras.preprocessing.image import ImageDataGenerator\n",
    "from tensorflow.keras import Sequential,Model,initializers,layers,Input\n",
    "from tensorflow.keras.utils import plot_model\n",
    "from sklearn.model_selection import train_test_split\n",
    "import os\n",
    "os.environ[\"CUDA_VISIBLE_DEVICES\"]=\"-1\""
   ]
  },
  {
   "cell_type": "code",
   "execution_count": 2,
   "metadata": {},
   "outputs": [],
   "source": [
    "def SkipConnection(x,l):\n",
    "    x1=x\n",
    "    x1=layers.Conv2D(filters=l,kernel_size=(3,3),strides=(1,1),padding='same')(x1)\n",
    "    x1=layers.BatchNormalization()(x1)\n",
    "    x1=layers.ReLU()(x1)\n",
    "    x1=layers.Conv2D(filters=l,kernel_size=(3,3),strides=(1,1),padding='same')(x1)\n",
    "    x1=layers.BatchNormalization()(x1)\n",
    "    x2=layers.Add()([x,x1])\n",
    "    x2=layers.ReLU()(x2)\n",
    "\n",
    "    return x2"
   ]
  },
  {
   "cell_type": "code",
   "execution_count": 3,
   "metadata": {},
   "outputs": [],
   "source": [
    "inputs=Input(shape=(224,224,1))\n",
    "x=layers.Conv2D(filters=64,kernel_size=(7,7),strides=(2,2),activation='relu',padding='same')(inputs)\n",
    "x=layers.BatchNormalization()(x)\n",
    "x=layers.MaxPooling2D(pool_size=(3,3),strides=(2,2),padding='same')(x)\n",
    "x=SkipConnection(x,64)\n",
    "x=SkipConnection(x,64)\n",
    "x=SkipConnection(x,64)\n",
    "\n",
    "x=layers.Conv2D(filters=128,kernel_size=(3,3),strides=(2,2),padding='same')(x)\n",
    "x=layers.BatchNormalization()(x)\n",
    "x=layers.ReLU()(x)\n",
    "x=layers.Conv2D(filters=128,kernel_size=(3,3),strides=(1,1),padding='same')(x)\n",
    "x=layers.BatchNormalization()(x)\n",
    "x=layers.ReLU()(x)\n",
    "\n",
    "x=SkipConnection(x,128)\n",
    "x=SkipConnection(x,128)\n",
    "x=SkipConnection(x,128)\n",
    "\n",
    "x=layers.Conv2D(filters=256,kernel_size=(3,3),strides=(2,2),padding='same')(x)\n",
    "x=layers.BatchNormalization()(x)\n",
    "x=layers.ReLU()(x)\n",
    "x=layers.Conv2D(filters=256,kernel_size=(3,3),strides=(1,1),padding='same')(x)\n",
    "x=layers.BatchNormalization()(x)\n",
    "x=layers.ReLU()(x)\n",
    "\n",
    "x=SkipConnection(x,256)\n",
    "x=SkipConnection(x,256)\n",
    "x=SkipConnection(x,256)\n",
    "x=SkipConnection(x,256)\n",
    "x=SkipConnection(x,256)\n",
    "\n",
    "x=layers.Conv2D(filters=512,kernel_size=(3,3),strides=(2,2),padding='same')(x)\n",
    "x=layers.BatchNormalization()(x)\n",
    "x=layers.ReLU()(x)\n",
    "x=layers.Conv2D(filters=512,kernel_size=(3,3),strides=(1,1),padding='same')(x)\n",
    "x=layers.BatchNormalization()(x)\n",
    "x=layers.ReLU()(x)\n",
    "\n",
    "x=SkipConnection(x,512)\n",
    "x=SkipConnection(x,512)\n",
    "\n",
    "x=layers.GlobalAveragePooling2D()(x)\n",
    "x=layers.Flatten()(x)\n",
    "output=layers.Dense(units=10,activation='softmax')(x)\n",
    "   \n",
    "model = tf.keras.models.Model(inputs,output)"
   ]
  },
  {
   "cell_type": "code",
   "execution_count": null,
   "metadata": {},
   "outputs": [],
   "source": [
    "plot_model(model,to_file='ResNet.png',show_shapes=True)"
   ]
  },
  {
   "cell_type": "code",
   "execution_count": null,
   "metadata": {},
   "outputs": [],
   "source": [
    "import visualkeras\n",
    "visualkeras.layered_view(model, scale_xy=10, legend=True)"
   ]
  },
  {
   "cell_type": "code",
   "execution_count": 4,
   "metadata": {},
   "outputs": [],
   "source": [
    "(x_train,y_train),(x_test,y_test)=tf.keras.datasets.mnist.load_data()\n",
    "\n",
    "# Normalization\n",
    "x_train=x_train/255.\n",
    "\n",
    "x_test=x_test/255.\n",
    "\n",
    "#One-hot encoding\n",
    "y_train = tf.keras.utils.to_categorical(np.array(y_train))\n",
    "y_test = tf.keras.utils.to_categorical(np.array(y_test))\n",
    "\n",
    "\n",
    "x_train = np.expand_dims(x_train, axis=-1)\n",
    "x_train = tf.image.resize(x_train, [224,224]) # if we want to resize \n",
    "\n",
    "x_test = np.expand_dims(x_test, axis=-1)\n",
    "x_test = tf.image.resize(x_test, [224,224]) # if we want to resize "
   ]
  },
  {
   "cell_type": "code",
   "execution_count": 5,
   "metadata": {},
   "outputs": [],
   "source": [
    "model.compile(optimizer='adam',loss='categorical_crossentropy' ,metrics=['acc'])"
   ]
  },
  {
   "cell_type": "code",
   "execution_count": 7,
   "metadata": {},
   "outputs": [
    {
     "name": "stdout",
     "output_type": "stream",
     "text": [
      "Epoch 1/10\n",
      " 613/7500 [=>............................] - ETA: 1:59:43 - loss: 0.5799 - acc: 0.8138"
     ]
    }
   ],
   "source": [
    "history=model.fit(x_train,y_train,validation_data=(x_test,y_test),epochs=10,batch_size=8,verbose=1)"
   ]
  },
  {
   "cell_type": "code",
   "execution_count": null,
   "metadata": {},
   "outputs": [],
   "source": [
    "import tensorflow as tf\n",
    "import numpy as np\n",
    "\n",
    "(x_train,y_train),(x_test,y_test)=tf.keras.datasets.cifar10.load_data()\n",
    "\n",
    "# Normalization\n",
    "x_train=x_train/255.\n",
    "\n",
    "x_test=x_test/255.\n",
    "\n",
    "#One-hot encoding\n",
    "y_train = tf.keras.utils.to_categorical(np.array(y_train))\n",
    "y_test = tf.keras.utils.to_categorical(np.array(y_test))\n",
    "\n",
    "\n",
    "x_train = np.expand_dims(x_train, axis=-1)\n",
    "x_train = tf.image.resize(x_train, [224,224]) # if we want to resize \n",
    "\n",
    "x_test = np.expand_dims(x_test, axis=-1)\n",
    "x_test = tf.image.resize(x_test, [224,224]) # if we want to resize "
   ]
  }
 ],
 "metadata": {
  "kernelspec": {
   "display_name": "deep",
   "language": "python",
   "name": "python3"
  },
  "language_info": {
   "codemirror_mode": {
    "name": "ipython",
    "version": 3
   },
   "file_extension": ".py",
   "mimetype": "text/x-python",
   "name": "python",
   "nbconvert_exporter": "python",
   "pygments_lexer": "ipython3",
   "version": "3.9.15"
  },
  "orig_nbformat": 4,
  "vscode": {
   "interpreter": {
    "hash": "2aa449cdabfa2015c02c49b6052644087a8272ff24b4438d56a7aabf7a36706b"
   }
  }
 },
 "nbformat": 4,
 "nbformat_minor": 2
}
