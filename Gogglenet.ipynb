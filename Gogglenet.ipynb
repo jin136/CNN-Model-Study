{
 "cells": [
  {
   "cell_type": "code",
   "execution_count": 68,
   "metadata": {},
   "outputs": [],
   "source": [
    "import tensorflow as tf\n",
    "import numpy as np\n",
    "from keras.preprocessing.image import ImageDataGenerator\n",
    "from tensorflow.keras import Sequential,Model,initializers,layers,Input\n",
    "from tensorflow.keras.utils import plot_model\n",
    "from sklearn.model_selection import train_test_split\n",
    "import os\n",
    "os.environ[\"CUDA_VISIBLE_DEVICES\"]=\"0\""
   ]
  },
  {
   "cell_type": "code",
   "execution_count": 37,
   "metadata": {},
   "outputs": [],
   "source": [
    "(x_train,y_train),(x_test,y_test)=tf.keras.datasets.mnist.load_data()\n",
    "\n",
    "# Normalization\n",
    "x_train=x_train/255.\n",
    "\n",
    "x_test=x_test/255.\n",
    "\n",
    "#One-hot encoding\n",
    "y_train = tf.keras.utils.to_categorical(np.array(y_train))\n",
    "y_test = tf.keras.utils.to_categorical(np.array(y_test))\n"
   ]
  },
  {
   "cell_type": "code",
   "execution_count": 38,
   "metadata": {},
   "outputs": [],
   "source": [
    "x_train = np.expand_dims(x_train, axis=-1)\n",
    "x_train = tf.image.resize(x_train, [224,224]) # if we want to resize \n",
    "\n",
    "x_test = np.expand_dims(x_test, axis=-1)\n",
    "x_test = tf.image.resize(x_test, [224,224]) # if we want to resize "
   ]
  },
  {
   "cell_type": "code",
   "execution_count": 54,
   "metadata": {},
   "outputs": [],
   "source": [
    "def Stem(input):\n",
    "    x=layers.Conv2D(filters=64,kernel_size=(7,7),strides=(2,2),padding='same',activation='relu')(input)\n",
    "    x=layers.MaxPooling2D(pool_size=(3,3),strides=(2,2),padding='same')(x)\n",
    "    x=layers.LayerNormalization()(x)\n",
    "    x=layers.Conv2D(filters=192,kernel_size=(1,1),strides=(1,1),padding='same',activation='relu')(x)\n",
    "    x=layers.Conv2D(filters=192,kernel_size=(3,3),strides=(1,1),padding='same',activation='relu')(x)\n",
    "    x=layers.LayerNormalization()(x)\n",
    "    x=layers.MaxPooling2D(pool_size=(3,3),strides=(2,2),padding='same')(x)    \n",
    "    return x\n",
    "\n",
    "\n",
    "def Inception(x,f1,f2,f3,f4,f5,f6):\n",
    "\n",
    "    x1=layers.Conv2D(filters=f1,kernel_size=(1,1),strides=(1,1),padding='same',activation='relu')(x)\n",
    "          \n",
    "    x2=layers.Conv2D(filters=f2,kernel_size=(1,1),strides=(1,1),padding='same',activation='relu')(x)\n",
    "    x2=layers.Conv2D(filters=f3,kernel_size=(3,3),strides=(1,1),padding='same',activation='relu')(x2)\n",
    "\n",
    "    x3=layers.Conv2D(filters=f4 ,kernel_size=(1,1),strides=(1,1),padding='same',activation='relu')(x)\n",
    "    x3=layers.Conv2D(filters=f5,kernel_size=(5,5),strides=(1,1),padding='same',activation='relu')(x3)\n",
    "       \n",
    "    x4=layers.MaxPooling2D(pool_size=(3,3),strides=(1,1),padding='same')(x)\n",
    "    x4=layers.Conv2D(filters=f6,kernel_size=(1,1),strides=(1,1),padding='same',activation='relu')(x4)\n",
    "    \n",
    "    return tf.concat([x1,x2,x3,x4],axis=3)\n",
    "\n",
    "def AUX(input):\n",
    "    ax=layers.AveragePooling2D(pool_size=(1,1),strides=(1,1))(input)\n",
    "    ax=layers.Conv2D(filters=128,kernel_size=(1,1),strides=(1,1),padding='same',activation='relu')(ax)\n",
    "    ax=layers.Flatten()(ax)\n",
    "    ax=layers.Dense(units=1024,activation='relu')(ax)\n",
    "    ax=layers.Dropout(0.7)(ax)\n",
    "    return ax\n",
    "\n",
    "\n",
    "def FClayer(input):\n",
    "    fc=layers.AveragePooling2D(pool_size=(7,7),strides=(1,1))(input)\n",
    "    fc=layers.Flatten()(fc)\n",
    "    fc=layers.Dense(units=10,activation='softmax',name='output')(fc)    \n",
    "    return fc"
   ]
  },
  {
   "cell_type": "code",
   "execution_count": 60,
   "metadata": {},
   "outputs": [],
   "source": [
    "inputs=Input(shape=(224,224,1))\n",
    "x=Stem(inputs)\n",
    "x=Inception(x,256,256,256,256,256,256)\n",
    "x=Inception(x,480,480,480,480,480,480)\n",
    "x=layers.MaxPooling2D(pool_size=(3,3),strides=(2,2),padding='same')(x)\n",
    "x=Inception(x,512,512,512,512,512,512)\n",
    "\n",
    "x1=AUX(x)\n",
    "ax1=layers.Dense(units=10,activation='softmax',name='ax1')(x1)\n",
    "x=Inception(x,512,512,512,512,512,512)\n",
    "x=Inception(x,512,512,512,512,512,512)\n",
    "x=Inception(x,528,528,528,528,528,528)\n",
    "\n",
    "x2=AUX(x)\n",
    "ax2=layers.Dense(units=10,activation='softmax',name='ax2')(x2)\n",
    "x=Inception(x,832,832,832,832,832,832)\n",
    "x=layers.MaxPooling2D(pool_size=(3,3),strides=(2,2),padding='same')(x)\n",
    "x=Inception(x,832,832,832,832,832,832)\n",
    "x=Inception(x,1024,1024,1024,1024,1024,1024)\n",
    "output=FClayer(x)\n",
    "   \n",
    "model = tf.keras.models.Model(inputs,[output,ax1,ax2],name = 'GoogleNet')"
   ]
  },
  {
   "cell_type": "code",
   "execution_count": null,
   "metadata": {},
   "outputs": [],
   "source": [
    "model.summary()"
   ]
  },
  {
   "cell_type": "code",
   "execution_count": null,
   "metadata": {},
   "outputs": [],
   "source": [
    "plot_model(model,to_file='GoogleNet.png',show_shapes=True)"
   ]
  },
  {
   "cell_type": "code",
   "execution_count": 66,
   "metadata": {},
   "outputs": [],
   "source": [
    "model.compile(optimizer='adam',loss='categorical_crossentropy' ,metrics=['acc'],loss_weights={'output':1, 'ax1':0., 'ax2':0})"
   ]
  },
  {
   "cell_type": "code",
   "execution_count": 70,
   "metadata": {},
   "outputs": [
    {
     "name": "stdout",
     "output_type": "stream",
     "text": [
      "Epoch 1/10\n",
      "1184/7500 [===>..........................] - ETA: 16:00:09 - loss: 2.3257 - output_loss: 2.3257 - ax1_loss: 2.3293 - ax2_loss: 2.3027 - output_acc: 0.1053 - ax1_acc: 0.1023 - ax2_acc: 0.1019"
     ]
    }
   ],
   "source": [
    "history=model.fit(x_train,{'output':y_train,'ax1':y_train,'ax2':y_train},validation_data=(x_test,{'output':y_test,'ax1':y_test,'ax2':y_test}),epochs=10,batch_size=8,verbose=1)"
   ]
  }
 ],
 "metadata": {
  "kernelspec": {
   "display_name": "deep",
   "language": "python",
   "name": "python3"
  },
  "language_info": {
   "codemirror_mode": {
    "name": "ipython",
    "version": 3
   },
   "file_extension": ".py",
   "mimetype": "text/x-python",
   "name": "python",
   "nbconvert_exporter": "python",
   "pygments_lexer": "ipython3",
   "version": "3.9.15 (main, Nov 24 2022, 14:39:17) [MSC v.1916 64 bit (AMD64)]"
  },
  "orig_nbformat": 4,
  "vscode": {
   "interpreter": {
    "hash": "2aa449cdabfa2015c02c49b6052644087a8272ff24b4438d56a7aabf7a36706b"
   }
  }
 },
 "nbformat": 4,
 "nbformat_minor": 2
}
