{
 "cells": [
  {
   "cell_type": "code",
   "execution_count": 21,
   "metadata": {},
   "outputs": [],
   "source": [
    "import tensorflow as tf\n",
    "import numpy as np\n",
    "from keras.preprocessing.image import ImageDataGenerator\n",
    "from tensorflow.keras import Sequential,Model,initializers,layers,Input\n",
    "from tensorflow.keras.utils import plot_model\n",
    "import os\n",
    "os.environ[\"CUDA_DEVICE_ORDER\"]=\"PCI_BUS_ID\"  \n",
    "os.environ[\"CUDA_VISIBLE_DEVICES\"]=\"0\""
   ]
  },
  {
   "cell_type": "code",
   "execution_count": 22,
   "metadata": {},
   "outputs": [],
   "source": [
    "class google_net(Model):\n",
    "    def __init__(self):\n",
    "        super(google_net,self).__init__()\n",
    "\n",
    "        self.stem=Sequential([   \n",
    "            layers.Conv2D(input_shape=(224,224,3),filters=64,kernel_size=(7,7),strides=(2,2),padding='same',activation='relu'),\n",
    "            layers.MaxPooling2D(pool_size=(3,3),strides=(2,2),padding='same'),   \n",
    "            layers.LayerNormalization(),\n",
    "            layers.Conv2D(filters=192,kernel_size=(3,3),strides=(1,1),padding='same',activation='relu'),\n",
    "            layers.Conv2D(filters=192,kernel_size=(3,3),strides=(2,2),padding='same',activation='relu'),\n",
    "            layers.LayerNormalization(),\n",
    "            layers.MaxPooling2D(pool_size=(3,3),strides=(2,2),padding='same')\n",
    "        ])\n",
    "\n",
    "        self.l1=Sequential([\n",
    "            inception(64,96,128,64,64,64),\n",
    "            inception(64,96,128,64,64,64),\n",
    "            layers.MaxPooling2D(pool_size=(1,1),strides=(1,1),padding='same')\n",
    "        ])\n",
    "        \n",
    "        self.l2=Sequential([\n",
    "            inception(64,96,128,64,64,64),\n",
    "        ])\n",
    "        self.l3=Sequential([\n",
    "            inception(64,96,128,64,64,64),\n",
    "            inception(64,96,128,64,64,64),\n",
    "            inception(64,96,128,64,64,64)\n",
    "        ])\n",
    "        \n",
    "        self.l4=Sequential([\n",
    "            inception(64,96,128,64,64,64),\n",
    "        ])\n",
    "        \n",
    "        self.l5=Sequential([\n",
    "            layers.MaxPooling2D(pool_size=(1,1),strides=(1,1),padding='same'),\n",
    "            inception(64,96,128,64,64,64),\n",
    "            inception(64,96,128,64,64,64),\n",
    "        ])\n",
    " \n",
    "        self.fclayer=Sequential([\n",
    "            layers.AveragePooling2D(pool_size=(1,1),strides=(1,1)),\n",
    "            layers.Conv2D(filters=128,kernel_size=(1,1),strides=(1,1),padding='same',activation='relu'),\n",
    "            layers.Flatten(),\n",
    "            layers.Dense(units=256,activation='relu'),\n",
    "            layers.Dropout(0.7),\n",
    "            layers.Dense(units=10,activation='softmax')\n",
    "        ])\n",
    "\n",
    "        self.finalfc=Sequential([\n",
    "            layers.AveragePooling2D(pool_size=(7,7),strides=(1,1)),\n",
    "            layers.Flatten(),\n",
    "            layers.Dense(units=10,activation='softmax')    \n",
    "\n",
    "        ])\n",
    "\n",
    "    def call(self,inputs,training=False):\n",
    "        x=self.stem(inputs,training=training)\n",
    "\n",
    "        x=self.l1(x,training=False)\n",
    "        \n",
    "        x=self.l2(x,training=False)\n",
    "        ax1=self.fclayer(x,training=False)\n",
    "        \n",
    "        x=self.l3(x,training=False)\n",
    "        ax2=self.fclayer(x,training=False)\n",
    "        \n",
    "        x=self.l4(x,training=False)\n",
    "        \n",
    "        x=self.l5(x,training=False)\n",
    "        \n",
    "        x=self.finalfc(x,training=False)\n",
    "        return x,ax1,ax2"
   ]
  },
  {
   "cell_type": "code",
   "execution_count": 23,
   "metadata": {},
   "outputs": [],
   "source": [
    "class inception(layers.Layer):\n",
    "        def __init__(self,f1,f2,f3,f4,f5,f6):\n",
    "                super(inception,self).__init__()\n",
    "\n",
    "                self.layer1=Sequential([\n",
    "                        layers.Conv2D(filters=f1,kernel_size=(1,1),strides=(1,1),padding='same',activation='relu')\n",
    "                ])\n",
    "        \n",
    "                self.layer2=Sequential([\n",
    "                        layers.Conv2D(filters=f2,kernel_size=(1,1),strides=(1,1),padding='same',activation='relu'),\n",
    "                        layers.Conv2D(filters=f3,kernel_size=(3,3),strides=(1,1),padding='same',activation='relu')\n",
    "\n",
    "                ])\n",
    "\n",
    "                self.layer3=Sequential([\n",
    "                        layers.Conv2D(filters=f4 ,kernel_size=(1,1),strides=(1,1),padding='same',activation='relu'),\n",
    "                        layers.Conv2D(filters=f5,kernel_size=(5,5),strides=(1,1),padding='same',activation='relu')\n",
    "                ])\n",
    "\n",
    "                \n",
    "                self.layer4=Sequential([\n",
    "                        layers.MaxPooling2D(pool_size=(3,3),strides=(1,1),padding='same'),\n",
    "                        layers.Conv2D(filters=f6,kernel_size=(1,1),strides=(1,1),padding='same',activation='relu')\n",
    "                ])\n",
    "\n",
    "        def call(self,x):\n",
    "                return tf.concat([self.layer1(x),self.layer2(x),self.layer3(x),self.layer4(x)],axis=3)"
   ]
  },
  {
   "cell_type": "code",
   "execution_count": 24,
   "metadata": {},
   "outputs": [],
   "source": [
    "def GoogLeNet(num_classes):\n",
    "    return google_net(num_classes)"
   ]
  },
  {
   "cell_type": "code",
   "execution_count": 18,
   "metadata": {},
   "outputs": [
    {
     "name": "stdout",
     "output_type": "stream",
     "text": [
      "\"dot\" with args ['-Tpng_subclass', 'C:\\\\Users\\\\USER\\\\AppData\\\\Local\\\\Temp\\\\tmpd27z7m65'] returned code: 1\n",
      "\n",
      "stdout, stderr:\n",
      " b''\n",
      "b'Format: \"png_subclass\" not recognized. Use one of: bmp canon cmap cmapx cmapx_np dot dot_json emf emfplus eps fig gd gif gv imap imap_np ismap jpe jpeg jpg json json0 metafile mp pdf pic plain plain-ext png pov ps ps2 svg tif tiff tk vml xdot xdot1.2 xdot1.4 xdot_json\\r\\n'\n",
      "\n"
     ]
    },
    {
     "ename": "AssertionError",
     "evalue": "\"dot\" with args ['-Tpng_subclass', 'C:\\\\Users\\\\USER\\\\AppData\\\\Local\\\\Temp\\\\tmpd27z7m65'] returned code: 1",
     "output_type": "error",
     "traceback": [
      "\u001b[1;31m---------------------------------------------------------------------------\u001b[0m",
      "\u001b[1;31mAssertionError\u001b[0m                            Traceback (most recent call last)",
      "Cell \u001b[1;32mIn[18], line 1\u001b[0m\n\u001b[1;32m----> 1\u001b[0m plot_model(model,to_file\u001b[39m=\u001b[39;49m\u001b[39m'\u001b[39;49m\u001b[39msub.png_subclass\u001b[39;49m\u001b[39m'\u001b[39;49m,show_shapes\u001b[39m=\u001b[39;49m\u001b[39mTrue\u001b[39;49;00m)\n",
      "File \u001b[1;32mc:\\Users\\USER\\anaconda3\\envs\\deep\\lib\\site-packages\\keras\\utils\\vis_utils.py:471\u001b[0m, in \u001b[0;36mplot_model\u001b[1;34m(model, to_file, show_shapes, show_dtype, show_layer_names, rankdir, expand_nested, dpi, layer_range, show_layer_activations)\u001b[0m\n\u001b[0;32m    469\u001b[0m     extension \u001b[39m=\u001b[39m extension[\u001b[39m1\u001b[39m:]\n\u001b[0;32m    470\u001b[0m \u001b[39m# Save image to disk.\u001b[39;00m\n\u001b[1;32m--> 471\u001b[0m dot\u001b[39m.\u001b[39;49mwrite(to_file, \u001b[39mformat\u001b[39;49m\u001b[39m=\u001b[39;49mextension)\n\u001b[0;32m    472\u001b[0m \u001b[39m# Return the image as a Jupyter Image object, to be displayed in-line.\u001b[39;00m\n\u001b[0;32m    473\u001b[0m \u001b[39m# Note that we cannot easily detect whether the code is running in a\u001b[39;00m\n\u001b[0;32m    474\u001b[0m \u001b[39m# notebook, and thus we always return the Image if Jupyter is available.\u001b[39;00m\n\u001b[0;32m    475\u001b[0m \u001b[39mif\u001b[39;00m extension \u001b[39m!=\u001b[39m \u001b[39m\"\u001b[39m\u001b[39mpdf\u001b[39m\u001b[39m\"\u001b[39m:\n",
      "File \u001b[1;32mc:\\Users\\USER\\anaconda3\\envs\\deep\\lib\\site-packages\\pydot.py:1828\u001b[0m, in \u001b[0;36mDot.write\u001b[1;34m(self, path, prog, format, encoding)\u001b[0m\n\u001b[0;32m   1826\u001b[0m         f\u001b[39m.\u001b[39mwrite(s)\n\u001b[0;32m   1827\u001b[0m \u001b[39melse\u001b[39;00m:\n\u001b[1;32m-> 1828\u001b[0m     s \u001b[39m=\u001b[39m \u001b[39mself\u001b[39;49m\u001b[39m.\u001b[39;49mcreate(prog, \u001b[39mformat\u001b[39;49m, encoding\u001b[39m=\u001b[39;49mencoding)\n\u001b[0;32m   1829\u001b[0m     \u001b[39mwith\u001b[39;00m io\u001b[39m.\u001b[39mopen(path, mode\u001b[39m=\u001b[39m\u001b[39m'\u001b[39m\u001b[39mwb\u001b[39m\u001b[39m'\u001b[39m) \u001b[39mas\u001b[39;00m f:\n\u001b[0;32m   1830\u001b[0m         f\u001b[39m.\u001b[39mwrite(s)\n",
      "File \u001b[1;32mc:\\Users\\USER\\anaconda3\\envs\\deep\\lib\\site-packages\\pydot.py:1956\u001b[0m, in \u001b[0;36mDot.create\u001b[1;34m(self, prog, format, encoding)\u001b[0m\n\u001b[0;32m   1944\u001b[0m     message \u001b[39m=\u001b[39m (\n\u001b[0;32m   1945\u001b[0m         \u001b[39m'\u001b[39m\u001b[39m\"\u001b[39m\u001b[39m{prog}\u001b[39;00m\u001b[39m\"\u001b[39m\u001b[39m with args \u001b[39m\u001b[39m{arguments}\u001b[39;00m\u001b[39m returned code: \u001b[39m\u001b[39m{code}\u001b[39;00m\u001b[39m\\n\u001b[39;00m\u001b[39m\\n\u001b[39;00m\u001b[39m'\u001b[39m\n\u001b[0;32m   1946\u001b[0m         \u001b[39m'\u001b[39m\u001b[39mstdout, stderr:\u001b[39m\u001b[39m\\n\u001b[39;00m\u001b[39m \u001b[39m\u001b[39m{out}\u001b[39;00m\u001b[39m\\n\u001b[39;00m\u001b[39m{err}\u001b[39;00m\u001b[39m\\n\u001b[39;00m\u001b[39m'\u001b[39m\n\u001b[1;32m   (...)\u001b[0m\n\u001b[0;32m   1952\u001b[0m         err\u001b[39m=\u001b[39mstderr_data,\n\u001b[0;32m   1953\u001b[0m     )\n\u001b[0;32m   1954\u001b[0m     \u001b[39mprint\u001b[39m(message)\n\u001b[1;32m-> 1956\u001b[0m \u001b[39massert\u001b[39;00m process\u001b[39m.\u001b[39mreturncode \u001b[39m==\u001b[39m \u001b[39m0\u001b[39m, (\n\u001b[0;32m   1957\u001b[0m         \u001b[39m'\u001b[39m\u001b[39m\"\u001b[39m\u001b[39m{prog}\u001b[39;00m\u001b[39m\"\u001b[39m\u001b[39m with args \u001b[39m\u001b[39m{arguments}\u001b[39;00m\u001b[39m returned code: \u001b[39m\u001b[39m{code}\u001b[39;00m\u001b[39m'\u001b[39m\u001b[39m.\u001b[39mformat(\n\u001b[0;32m   1958\u001b[0m             prog\u001b[39m=\u001b[39mprog,\n\u001b[0;32m   1959\u001b[0m             arguments\u001b[39m=\u001b[39marguments,\n\u001b[0;32m   1960\u001b[0m             code\u001b[39m=\u001b[39mprocess\u001b[39m.\u001b[39mreturncode,\n\u001b[0;32m   1961\u001b[0m         )\n\u001b[0;32m   1962\u001b[0m     )\n\u001b[0;32m   1964\u001b[0m \u001b[39mreturn\u001b[39;00m stdout_data\n",
      "\u001b[1;31mAssertionError\u001b[0m: \"dot\" with args ['-Tpng_subclass', 'C:\\\\Users\\\\USER\\\\AppData\\\\Local\\\\Temp\\\\tmpd27z7m65'] returned code: 1"
     ]
    }
   ],
   "source": [
    "plot_model(model,to_file='sub.png_subclass',show_shapes=True)"
   ]
  },
  {
   "cell_type": "code",
   "execution_count": 20,
   "metadata": {},
   "outputs": [],
   "source": [
    "model.build(input_shape=(None,224,224,3))"
   ]
  }
 ],
 "metadata": {
  "kernelspec": {
   "display_name": "deep",
   "language": "python",
   "name": "python3"
  },
  "language_info": {
   "codemirror_mode": {
    "name": "ipython",
    "version": 3
   },
   "file_extension": ".py",
   "mimetype": "text/x-python",
   "name": "python",
   "nbconvert_exporter": "python",
   "pygments_lexer": "ipython3",
   "version": "3.9.15"
  },
  "orig_nbformat": 4,
  "vscode": {
   "interpreter": {
    "hash": "2aa449cdabfa2015c02c49b6052644087a8272ff24b4438d56a7aabf7a36706b"
   }
  }
 },
 "nbformat": 4,
 "nbformat_minor": 2
}
